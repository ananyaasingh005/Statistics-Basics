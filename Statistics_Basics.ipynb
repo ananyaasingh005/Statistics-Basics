{
  "nbformat": 4,
  "nbformat_minor": 0,
  "metadata": {
    "colab": {
      "provenance": []
    },
    "kernelspec": {
      "name": "python3",
      "display_name": "Python 3"
    },
    "language_info": {
      "name": "python"
    }
  },
  "cells": [
    {
      "cell_type": "code",
      "execution_count": null,
      "metadata": {
        "id": "Aelwm9OPGAKj"
      },
      "outputs": [],
      "source": [
        "# Ques 2. What are the measures of central tendency, and when should you use each? Discuss the mean, median, and mode with examples and situations where each is appropriate."
      ]
    },
    {
      "cell_type": "code",
      "source": [
        "#mean\n",
        "age = [28, 56, 35, 28, 76, 89]"
      ],
      "metadata": {
        "id": "ZL6492cUGL0N"
      },
      "execution_count": 1,
      "outputs": []
    },
    {
      "cell_type": "code",
      "source": [
        "import numpy as np\n",
        "np.mean(age)"
      ],
      "metadata": {
        "colab": {
          "base_uri": "https://localhost:8080/"
        },
        "id": "DKBpGyUSGMB2",
        "outputId": "e0848a49-c876-4a72-a0f7-7d07f2005b84"
      },
      "execution_count": 2,
      "outputs": [
        {
          "output_type": "execute_result",
          "data": {
            "text/plain": [
              "52.0"
            ]
          },
          "metadata": {},
          "execution_count": 2
        }
      ]
    },
    {
      "cell_type": "code",
      "source": [
        "height = [170, 180, 100, 120, 122]"
      ],
      "metadata": {
        "id": "DBHPUOXpGMDy"
      },
      "execution_count": 3,
      "outputs": []
    },
    {
      "cell_type": "code",
      "source": [
        "np.mean(height)"
      ],
      "metadata": {
        "colab": {
          "base_uri": "https://localhost:8080/"
        },
        "id": "q5Z8YlvNGMGq",
        "outputId": "a791490a-b514-49fc-f250-63e3c80f4e84"
      },
      "execution_count": 4,
      "outputs": [
        {
          "output_type": "execute_result",
          "data": {
            "text/plain": [
              "138.4"
            ]
          },
          "metadata": {},
          "execution_count": 4
        }
      ]
    },
    {
      "cell_type": "code",
      "source": [
        "#median\n",
        "nos = [4, 2, 3, 7, 8]\n",
        "np.median(nos)"
      ],
      "metadata": {
        "colab": {
          "base_uri": "https://localhost:8080/"
        },
        "id": "ETMYYghLGMJS",
        "outputId": "4352e203-9691-47ee-c698-d09ec157cb9d"
      },
      "execution_count": 5,
      "outputs": [
        {
          "output_type": "execute_result",
          "data": {
            "text/plain": [
              "4.0"
            ]
          },
          "metadata": {},
          "execution_count": 5
        }
      ]
    },
    {
      "cell_type": "code",
      "source": [
        "from scipy import stats"
      ],
      "metadata": {
        "id": "El70crP3GMME"
      },
      "execution_count": 6,
      "outputs": []
    },
    {
      "cell_type": "code",
      "source": [
        "stats.mode(nos)"
      ],
      "metadata": {
        "colab": {
          "base_uri": "https://localhost:8080/"
        },
        "id": "CdaDh_ZUGMO8",
        "outputId": "2abe670b-5efd-45af-efb5-9d44601e1a6f"
      },
      "execution_count": 7,
      "outputs": [
        {
          "output_type": "execute_result",
          "data": {
            "text/plain": [
              "ModeResult(mode=2, count=1)"
            ]
          },
          "metadata": {},
          "execution_count": 7
        }
      ]
    },
    {
      "cell_type": "code",
      "source": [
        "# Ques 3. Explain the concept of dispersion. How do variance and standard deviation measure the spread of data?"
      ],
      "metadata": {
        "id": "pHPkpeBgHpxD"
      },
      "execution_count": null,
      "outputs": []
    },
    {
      "cell_type": "code",
      "source": [
        "from statistics import variance, stdev\n",
        "data = [70, 75, 80, 85, 90]"
      ],
      "metadata": {
        "id": "mHyiCz9qGMRb"
      },
      "execution_count": 8,
      "outputs": []
    },
    {
      "cell_type": "code",
      "source": [
        "# Calculate Variance\n",
        "variance_value = variance(data)\n",
        "print(\"Variance:\", variance_value)"
      ],
      "metadata": {
        "colab": {
          "base_uri": "https://localhost:8080/"
        },
        "id": "jsNnKMrKGMVT",
        "outputId": "b7db7584-113c-48b0-f1d5-c0a12c1e8bb6"
      },
      "execution_count": 9,
      "outputs": [
        {
          "output_type": "stream",
          "name": "stdout",
          "text": [
            "Variance: 62.5\n"
          ]
        }
      ]
    },
    {
      "cell_type": "code",
      "source": [
        "# Calculate Standard Deviation\n",
        "std_deviation_value = stdev(data)\n",
        "print(\"Standard Deviation:\", std_deviation_value)"
      ],
      "metadata": {
        "colab": {
          "base_uri": "https://localhost:8080/"
        },
        "id": "dnx3jOhOHgqj",
        "outputId": "66eb0579-601b-4a1c-fc53-9b0c83605fa5"
      },
      "execution_count": 10,
      "outputs": [
        {
          "output_type": "stream",
          "name": "stdout",
          "text": [
            "Standard Deviation: 7.905694150420948\n"
          ]
        }
      ]
    },
    {
      "cell_type": "code",
      "source": [
        "# Ques 4. What is a box plot, and what can it tell you about the distribution of data?"
      ],
      "metadata": {
        "id": "1LhSawfkHgyj"
      },
      "execution_count": null,
      "outputs": []
    },
    {
      "cell_type": "code",
      "source": [
        "import matplotlib.pyplot as plt\n",
        "data = [60, 62, 63, 65, 66, 68, 70, 72, 75, 78, 80, 85, 88, 90, 92, 95, 98]\n",
        "\n",
        "plt.boxplot(data, vert=False)\n",
        "plt.title(\"Box Plot of Test Scores\")\n",
        "plt.xlabel(\"Scores\")\n",
        "plt.show()"
      ],
      "metadata": {
        "colab": {
          "base_uri": "https://localhost:8080/",
          "height": 472
        },
        "id": "7A0EMu9jH0OT",
        "outputId": "6cf80b39-0e03-491e-c11d-75fdf72ec8bf"
      },
      "execution_count": 11,
      "outputs": [
        {
          "output_type": "display_data",
          "data": {
            "text/plain": [
              "<Figure size 640x480 with 1 Axes>"
            ],
            "image/png": "[encoded data removed]"
          },
          "metadata": {}
        }
      ]
    },
    {
      "cell_type": "code",
      "source": [
        "#Ques 5. Discuss the role of random sampling in making inferences about populations."
      ],
      "metadata": {
        "id": "TmTf5n6OIEIg"
      },
      "execution_count": null,
      "outputs": []
    },
    {
      "cell_type": "code",
      "source": [
        "import random\n",
        "population = list(range(1, 1001))"
      ],
      "metadata": {
        "id": "4VmqTx4JIEKz"
      },
      "execution_count": 12,
      "outputs": []
    },
    {
      "cell_type": "code",
      "source": [
        "sample_size = 50\n",
        "sample = random.sample(population, sample_size)"
      ],
      "metadata": {
        "id": "1RrAnhbYIENs"
      },
      "execution_count": 13,
      "outputs": []
    },
    {
      "cell_type": "code",
      "source": [
        "print(sample)"
      ],
      "metadata": {
        "colab": {
          "base_uri": "https://localhost:8080/"
        },
        "id": "SodupCNdIEQX",
        "outputId": "18dd1356-b9b2-463e-a755-03b8187316ad"
      },
      "execution_count": 14,
      "outputs": [
        {
          "output_type": "stream",
          "name": "stdout",
          "text": [
            "[179, 794, 921, 427, 88, 726, 339, 345, 416, 566, 533, 184, 941, 15, 688, 585, 642, 583, 264, 917, 968, 151, 149, 584, 370, 414, 496, 384, 282, 707, 901, 655, 741, 531, 174, 125, 444, 529, 696, 701, 431, 754, 903, 284, 846, 99, 505, 161, 341, 883]\n"
          ]
        }
      ]
    },
    {
      "cell_type": "code",
      "source": [
        "sample_mean = sum(sample) / sample_size\n",
        "print(sample_mean)"
      ],
      "metadata": {
        "colab": {
          "base_uri": "https://localhost:8080/"
        },
        "id": "3GkFUF6yIETb",
        "outputId": "ad8728d9-1372-41b1-9f62-f5314229681f"
      },
      "execution_count": 15,
      "outputs": [
        {
          "output_type": "stream",
          "name": "stdout",
          "text": [
            "507.24\n"
          ]
        }
      ]
    },
    {
      "cell_type": "code",
      "source": [
        "sample_variance = sum((x - sample_mean) ** 2 for x in sample) / (sample_size - 1)\n",
        "print(sample_variance)"
      ],
      "metadata": {
        "colab": {
          "base_uri": "https://localhost:8080/"
        },
        "id": "ehNUCfMDIEWd",
        "outputId": "71e8330f-fc40-498f-fa78-f7867f6f8d1e"
      },
      "execution_count": 17,
      "outputs": [
        {
          "output_type": "stream",
          "name": "stdout",
          "text": [
            "71429.0432653061\n"
          ]
        }
      ]
    },
    {
      "cell_type": "code",
      "source": [
        "#Ques 6. Explain the concept of skewness and its types. How does skewness affect the interpretation of data? use coding as a example"
      ],
      "metadata": {
        "id": "edfV0ORIJ6Xx"
      },
      "execution_count": null,
      "outputs": []
    },
    {
      "cell_type": "code",
      "source": [
        "import numpy as np\n",
        "import matplotlib.pyplot as plt\n",
        "from scipy.stats import skew"
      ],
      "metadata": {
        "id": "gaxWrDXpJ4uE"
      },
      "execution_count": 18,
      "outputs": []
    },
    {
      "cell_type": "code",
      "source": [
        "data_positive_skew = np.random.lognormal(mean=0, sigma=1, size=1000)\n",
        "\n",
        "positive_skewness = skew(data_positive_skew)\n",
        "\n",
        "print(\"Positive Skewness: \", positive_skewness)\n",
        "\n",
        "plt.figure(figsize=(12, 6))\n",
        "\n",
        "plt.subplot(1, 2, 1)\n",
        "plt.hist(data_positive_skew, bins=30, color='skyblue', edgecolor='black')\n",
        "plt.title('Positive Skew (Right Skew)')\n",
        "\n",
        "plt.tight_layout()\n",
        "plt.show()\n"
      ],
      "metadata": {
        "colab": {
          "base_uri": "https://localhost:8080/",
          "height": 624
        },
        "id": "OTyjEtx5IEZj",
        "outputId": "afeed968-4377-439c-f05c-3faf1a21bc94"
      },
      "execution_count": 22,
      "outputs": [
        {
          "output_type": "stream",
          "name": "stdout",
          "text": [
            "Positive Skewness:  3.6672009146008695\n"
          ]
        },
        {
          "output_type": "display_data",
          "data": {
            "text/plain": [
              "<Figure size 1200x600 with 1 Axes>"
            ],
            "image/png": "[encoded data removed]"
          },
          "metadata": {}
        }
      ]
    },
    {
      "cell_type": "code",
      "source": [
        "#Ques 12. Provide an example dataset, calculate both covariance and correlation, and interpret the results."
      ],
      "metadata": {
        "id": "UXUAByRIIEck"
      },
      "execution_count": null,
      "outputs": []
    },
    {
      "cell_type": "code",
      "source": [
        "import numpy as np\n",
        "X = np.array([1, 2, 3, 4, 5])\n",
        "Y = np.array([50, 55, 60, 65, 70])\n",
        "\n",
        "mean_X = np.mean(X)\n",
        "mean_Y = np.mean(Y)\n"
      ],
      "metadata": {
        "id": "7twsa06BIEgO"
      },
      "execution_count": 24,
      "outputs": []
    },
    {
      "cell_type": "code",
      "source": [
        "covariance = np.mean((X - mean_X) * (Y - mean_Y))\n",
        "\n",
        "std_X = np.std(X)\n",
        "std_Y = np.std(Y)\n",
        "print(f\"Covariance: {covariance}\")"
      ],
      "metadata": {
        "colab": {
          "base_uri": "https://localhost:8080/"
        },
        "id": "ErLO-v_pIEkJ",
        "outputId": "3b9c8588-6358-4017-946b-927f7175f8e8"
      },
      "execution_count": 25,
      "outputs": [
        {
          "output_type": "stream",
          "name": "stdout",
          "text": [
            "Covariance: 10.0\n"
          ]
        }
      ]
    },
    {
      "cell_type": "code",
      "source": [
        "correlation = covariance / (std_X * std_Y)\n",
        "print(f\"Correlation: {correlation}\")"
      ],
      "metadata": {
        "colab": {
          "base_uri": "https://localhost:8080/"
        },
        "id": "mSfmcNubLQZ0",
        "outputId": "8f757fae-f3b2-45ad-dc51-ac4eaa32ed0c"
      },
      "execution_count": 26,
      "outputs": [
        {
          "output_type": "stream",
          "name": "stdout",
          "text": [
            "Correlation: 0.9999999999999998\n"
          ]
        }
      ]
    }
  ]
}